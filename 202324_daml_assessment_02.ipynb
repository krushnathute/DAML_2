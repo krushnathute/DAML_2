{
 "cells": [
  {
   "cell_type": "markdown",
   "metadata": {
    "id": "ZNWbaIDYFbK2"
   },
   "source": [
    "---\n",
    "# Data Analysis and Machine Learning\n",
    "---\n",
    "## Assessment 02\n",
    "\n",
    "The University of York campus lake on the Heslington West campus is home to a lot of different lake birds; in fact, the University has the second highest '*duck density*' in the UK! All University of York students are able to recognise the ducks, geese, and swans that they see around the lake - but is a computer able to, or is it what separates us from machines?\n",
    "\n",
    "Your dataset is packaged as a .zip archive (which you will need to download and unpack) and contains colour (RGB) images (***X***) of ducks, geese, and swans (*y*). Inside the .zip archive (`lake_bird_images.zip`), there are two subdirectories: `train` and `test`, containing the training and testing datasets, respectively. Inside each of these subdirectories are three further subdirectories: `duck`, `goose`, and `swan`. There are 498 images of ducks, 981 images of geese, and 335 images of swans inside `train` (1814 images in total), and there are 218 images of ducks, 405 images of geese, and 160 images of swans inside `test` (783 images in total).\n",
    "\n",
    "Your task is to build one deep machine-learning model:\n",
    "- a **multiclass classification model for predicting whether the image is a duck, a goose, or a swan**. You are only allowed to evaluate your model performance on the test dataset (`test`) once; all model (hyperparameter) tuning should be carried out using only the training dataset (`train`) and a validation set derived from it.\n",
    "\n",
    "This assessment also has a written/report-style component which you can complete inside this notebook by adding additional text blocks if necessary. Once you have built your deep machine-learning model, you should:\n",
    "- evaluate its performance, **producing at least three figures that illustrate the performance of the model**, and **write an analysis of each figure that outlines what the figure is showing and what it tells you about the performance of your model**. You are not limited to only three figures - you can produce more figures if they are useful in illustrating a point - although only three figures and accompanying analyses will count towards your grade on the assessment (these will be the highest-graded three that you present). The figures and accompanying analuses can focus on the training/validation performance, the testing performance, or - ideally - a mixture of the two;\n",
    "- answer the question: **what limits the performance of the model?** Up to three proposed explanations will count towards your grade on the assessment.\n",
    "\n",
    "You are limited to 2500 words for your written/report-style contribution, but this is **not** a guideline - it is likely much, much more than what you'll need, and contributions of this length are not expected.\n",
    "\n",
    "All code should generally be commented where appropriate as good practice dictates. When you have finished, use the option on the File menu to download this notebook as in .ipynb format and upload it to the submission point on the VLE.\n",
    "\n",
    "## Tips:\n",
    "\n",
    "- If you cannot get code to work, comment it out and write comments about what you are trying to do and how it fails.\n",
    "- Consider running your code locally on your computer or on a University-managed computer rather than Google Colab to avoid uploading the duck/goose/swan dataset to your Google Drive; the dataset contains around 2500 images and will not only be slow to upload but also slow to access for your deep machine-learning model. Your code will run much, much quicker if you run it offline!\n",
    "- Don't expect the kind of accuracy that you were able to acheive in the last assessment (DAML Assessment 01); this is a much, much more challenging problem! Think, instead, about the baseline accuracy that you might expect for a multiclass classification task like this.\n",
    "- Familiarise yourself with the new TensorFlow notebooks on deep neural networks (DNNs) and deep convolutional neural networks (CNNs) before you attempt the task."
   ]
  },
  {
   "cell_type": "markdown",
   "metadata": {
    "id": "o60v467SesrH"
   },
   "source": [
    "Before you start, click the &#x25B8; icon below to allow colab to access the data files in your drive (not necessary if you plan to work offline)."
   ]
  },
  {
   "cell_type": "code",
   "execution_count": 1,
   "metadata": {
    "colab": {
     "base_uri": "https://localhost:8080/"
    },
    "id": "zeiwxmjkFYoD",
    "outputId": "15eb3738-70b7-41c0-f22d-3ef7a719c445"
   },
   "outputs": [
    {
     "name": "stdout",
     "output_type": "stream",
     "text": [
      "Mounted at /content/drive\n"
     ]
    }
   ],
   "source": [
    "from google.colab import drive; drive.mount('/content/drive')"
   ]
  },
  {
   "cell_type": "markdown",
   "metadata": {
    "id": "rAkfVjZIVdgZ"
   },
   "source": [
    "... and click the &#x25B8; icon below to import the `numpy`, `matplotlib.pyplot` libraries:"
   ]
  },
  {
   "cell_type": "code",
   "execution_count": 1,
   "metadata": {
    "id": "lwlOvM-bVevy"
   },
   "outputs": [],
   "source": [
    "import numpy as np\n",
    "import matplotlib.pyplot as plt"
   ]
  },
  {
   "cell_type": "code",
   "execution_count": 2,
   "metadata": {},
   "outputs": [],
   "source": [
    "import os\n",
    "import cv2"
   ]
  },
  {
   "cell_type": "markdown",
   "metadata": {
    "id": "aGnoB_5bPQjX"
   },
   "source": [
    "You can click the &#x25B8; icon below to install TensorFlow if the environment/computer you're working on doesn't have TensorFlow installed already:"
   ]
  },
  {
   "cell_type": "code",
   "execution_count": 3,
   "metadata": {
    "colab": {
     "base_uri": "https://localhost:8080/"
    },
    "id": "Xwaw1uWAPe3S",
    "outputId": "d17d0f5d-a9d6-4edc-c1cf-8021d559ccfb"
   },
   "outputs": [
    {
     "name": "stdout",
     "output_type": "stream",
     "text": [
      "^C\n"
     ]
    }
   ],
   "source": [
    "! pip install tensorflow"
   ]
  },
  {
   "cell_type": "markdown",
   "metadata": {
    "id": "bIRUOagpPg-V"
   },
   "source": [
    "...and click the &#x25B8; icon below to import the `tensorflow` and `tensorflow.keras` libraries:"
   ]
  },
  {
   "cell_type": "code",
   "execution_count": 3,
   "metadata": {
    "id": "opa5966WP1YV"
   },
   "outputs": [
    {
     "name": "stdout",
     "output_type": "stream",
     "text": [
      "WARNING:tensorflow:From C:\\Users\\krush\\anaconda3\\Lib\\site-packages\\keras\\src\\losses.py:2976: The name tf.losses.sparse_softmax_cross_entropy is deprecated. Please use tf.compat.v1.losses.sparse_softmax_cross_entropy instead.\n",
      "\n"
     ]
    }
   ],
   "source": [
    "import tensorflow as tf\n",
    "import tensorflow.keras as keras"
   ]
  },
  {
   "cell_type": "markdown",
   "metadata": {
    "id": "9wTOJ4fGSjNb"
   },
   "source": [
    "### Task 01\n",
    "\n",
    "Build and fit a deep machine-learning model to classify the images of ducks, geese, and swans in `lake_bird_images.zip`. Evaluate your multiclass classification model using the accuracy, and optimise the hyperparameters of your multiclass classification model to obtain the best performance possible on unseen data using the images in `train`. When you are satisified - **and only once in the notebook** - evaluate and/or produce predictions for the images in `test`.\n",
    "\n",
    "You are recommended to use a deep convolutional neural network (CNN) to solve the task. Show evidence that you have:\n",
    "\n",
    "- experimented with the structure and number of the layers (*e.g.* `layers.Conv2D`, `layers.MaxPooling2D`) in your CNN;\n",
    "- experimented with the addition of other kinds of layers (*e.g.* for data augmentation, and/or regularisation \\[`layers.Dropout`, `layers.BatchNormalzation`\\]);\n",
    "- evaluated your chosen multiclass classification model on held-out data."
   ]
  },
  {
   "cell_type": "code",
   "execution_count": 4,
   "metadata": {
    "id": "Z6JaxJbFUzl2"
   },
   "outputs": [],
   "source": [
    "## TODO:\n",
    "# build and fit a deep machine-learning model to classify the images of ducks,\n",
    "# geese, and swans in `lake_bird_images.zip`\n",
    "DATADIR = \"E:/DAML_2/lake_bird_images/train\"\n",
    "CATEGORIES = [\"swan\",\"goose\",\"duck\"]\n"
   ]
  },
  {
   "cell_type": "code",
   "execution_count": null,
   "metadata": {},
   "outputs": [],
   "source": [
    "for categoty in CATEGORIES:\n",
    "    path = os.path.join(DATADIR, category) #path to swan goose and ducks\n",
    "    for img in os.lisdir(path):\n",
    "        img_array = cv2.imread(os.path.join(path_img),cv2.IMREAD_GRAYSCALE)"
   ]
  },
  {
   "cell_type": "code",
   "execution_count": null,
   "metadata": {
    "id": "y_oEfl1iQffI"
   },
   "outputs": [],
   "source": [
    "## TODO:\n",
    "# plot a figure that illustrates the performance of your deep machine-learning\n",
    "# model, eg. a confusion matrix, a hyperparameter optimisation curve, a training/\n",
    "# validation loss curve, a learning curve, etc."
   ]
  },
  {
   "cell_type": "markdown",
   "metadata": {
    "id": "i6B_q1RDQzda"
   },
   "source": [
    "**TODO:** Write an analysis of the figure above here; what does the figure show, and what does the figure indicate about the performance of your model?"
   ]
  },
  {
   "cell_type": "code",
   "execution_count": null,
   "metadata": {
    "id": "kCzrAO8HRDbl"
   },
   "outputs": [],
   "source": [
    "## TODO:\n",
    "# plot a figure that illustrates the performance of your deep machine-learning\n",
    "# model, eg. a confusion matrix, a hyperparameter optimisation curve, a training/\n",
    "# validation loss curve, a learning curve, etc."
   ]
  },
  {
   "cell_type": "markdown",
   "metadata": {
    "id": "SQctw54nRFlD"
   },
   "source": [
    "**TODO:** Write an analysis of the figure above here; what does the figure show, and what does the figure indicate about the performance of your model?"
   ]
  },
  {
   "cell_type": "code",
   "execution_count": null,
   "metadata": {
    "id": "YZo6FYQDREOI"
   },
   "outputs": [],
   "source": [
    "## TODO:\n",
    "# plot a figure that illustrates the performance of your deep machine-learning\n",
    "# model, eg. a confusion matrix, a hyperparameter optimisation curve, a training/\n",
    "# validation loss curve, a learning curve, etc."
   ]
  },
  {
   "cell_type": "markdown",
   "metadata": {
    "id": "CMcEKLa0RGW7"
   },
   "source": [
    "**TODO:** Write an analysis of the figure above here; what does the figure show, and what does the figure indicate about the performance of your model?"
   ]
  },
  {
   "cell_type": "markdown",
   "metadata": {
    "id": "UTmOKJVeRKXO"
   },
   "source": [
    "**TODO:** What limits the performance of your model? Discuss here, giving up to three possible explanations and (if useful) referring back to your figures."
   ]
  }
 ],
 "metadata": {
  "colab": {
   "provenance": []
  },
  "kernelspec": {
   "display_name": "Python 3 (ipykernel)",
   "language": "python",
   "name": "python3"
  },
  "language_info": {
   "codemirror_mode": {
    "name": "ipython",
    "version": 3
   },
   "file_extension": ".py",
   "mimetype": "text/x-python",
   "name": "python",
   "nbconvert_exporter": "python",
   "pygments_lexer": "ipython3",
   "version": "3.11.5"
  }
 },
 "nbformat": 4,
 "nbformat_minor": 1
}
